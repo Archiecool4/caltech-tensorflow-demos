{
  "nbformat": 4,
  "nbformat_minor": 0,
  "metadata": {
    "colab": {
      "name": "CS12_Lecture_1_Live_Coding.ipynb",
      "provenance": [],
      "collapsed_sections": []
    },
    "kernelspec": {
      "name": "python3",
      "display_name": "Python 3"
    },
    "language_info": {
      "name": "python"
    }
  },
  "cells": [
    {
      "cell_type": "markdown",
      "source": [
        "# CS 12: TensorFlow Lecture 1 Live Coding\n",
        "This notebook outlines a simple quadratic regression of the function $y=2x^2+3x-2$ in TensorFlow."
      ],
      "metadata": {
        "id": "2iIT2MrU7N7f"
      }
    },
    {
      "cell_type": "code",
      "execution_count": null,
      "metadata": {
        "id": "8Nc0j1M7gMcM"
      },
      "outputs": [],
      "source": [
        "# Necessary imports\n",
        "import numpy as np\n",
        "import tensorflow as tf\n",
        "import matplotlib.pyplot as plt\n",
        "\n",
        "%matplotlib inline"
      ]
    },
    {
      "cell_type": "markdown",
      "source": [
        "## Problem Set Up\n",
        "We will create 50 datapoints on the domain $x\\in[0,5]$. The target data to regress for each point will be,\n",
        "\n",
        "$$y_i=2x_i^2+3x_i-2+\\varepsilon_i$$\n",
        "\n",
        "We will be using the mean-squared error loss (MSE), $\\mathcal{L}=\\frac{1}{n}\\sum_{i=1}^n(y_i-f(x_i))^2$ where $f(x_i)$ is our model's prediction, for the gradient descent algorithm. This is least-squares regression so it is equivalent to maximum likelihood estimation where the assumption is that our residuals (difference between targets and predictions) are normally distributed, so we will add Gaussian noise, $\\varepsilon_i\\sim\\mathcal{N}(0,25)$, to each of our targets to make this problem nontrivial."
      ],
      "metadata": {
        "id": "jFPAZNiy7bS_"
      }
    },
    {
      "cell_type": "code",
      "source": [
        "# Equally spaced points in interval [0, 5]\n",
        "x_t = np.linspace(0, 5, 50)\n",
        "func = 2 * x_t ** 2 + 3 * x_t - 2\n",
        "# Noise is sampled from Gaussian with mean of 0 and std. dev. of 5\n",
        "y_t = func + np.random.normal(0, 5, 50)"
      ],
      "metadata": {
        "id": "wdSz3eTiwE2E"
      },
      "execution_count": null,
      "outputs": []
    },
    {
      "cell_type": "code",
      "source": [
        "# Plot our data\n",
        "plt.plot(x_t, func, 'b-', label='True Curve')\n",
        "plt.plot(x_t, y_t, 'r.', label='Targets')\n",
        "plt.xlabel(r'$x_i$')\n",
        "plt.ylabel(r'$y_i$')\n",
        "plt.title('Datapoints for Noisy Parabola')\n",
        "plt.legend()\n",
        "plt.show()"
      ],
      "metadata": {
        "colab": {
          "base_uri": "https://localhost:8080/",
          "height": 297
        },
        "id": "I-n2C2qqwdK-",
        "outputId": "11fd1000-3d01-45a6-f1f4-87836134d23f"
      },
      "execution_count": null,
      "outputs": [
        {
          "output_type": "display_data",
          "data": {
            "text/plain": [
              "<Figure size 432x288 with 1 Axes>"
            ],
            "image/png": "[encoded data removed]"
          },
          "metadata": {
            "needs_background": "light"
          }
        }
      ]
    },
    {
      "cell_type": "markdown",
      "source": [
        "## Creating and Training a Model\n",
        "We must write a model to perform our regression. We will create parameters (weights) $w_i$ and learn them through gradient descent. Our model is,\n",
        "\n",
        "$$f(x_i)=w_0+w_1x_i+w_2x_i^2$$"
      ],
      "metadata": {
        "id": "uc2Mg6eywnM_"
      }
    },
    {
      "cell_type": "code",
      "source": [
        "# Create TensorFlow `tf.Variable`s for our model and randomly initialize them\n",
        "w0 = tf.Variable(np.random.randn(), name='w0')\n",
        "w1 = tf.Variable(np.random.randn(), name='w1')\n",
        "w2 = tf.Variable(np.random.randn(), name='w2')"
      ],
      "metadata": {
        "id": "Kb1zt5wiwm3r"
      },
      "execution_count": null,
      "outputs": []
    },
    {
      "cell_type": "code",
      "source": [
        "# We will use stochastic gradient descent with a learning rate of 0.001\n",
        "optimizer = tf.optimizers.SGD(1e-3)"
      ],
      "metadata": {
        "id": "7-tYexUewkYY"
      },
      "execution_count": null,
      "outputs": []
    },
    {
      "cell_type": "code",
      "source": [
        "# Train for 200 epochs\n",
        "for _ in range(200):\n",
        "    # Loop through training set\n",
        "    for x, y in zip(x_t, y_t):\n",
        "        # Use `tf.GradientTape` to watch variables for automatic differentiation\n",
        "        with tf.GradientTape() as g:\n",
        "            # Model prediction: f(x_i)\n",
        "            pred = w0 + w1 * x + w2 * x ** 2\n",
        "            # Mean-squared error between target and prediction\n",
        "            cost = tf.reduce_mean((pred - y) ** 2)\n",
        "        # Variables to differentiate with respect to\n",
        "        args = [w0, w1, w2]\n",
        "        # Compute gradients\n",
        "        grads = g.gradient(cost, args)\n",
        "        # Do one iteration of gradient descent\n",
        "        optimizer.apply_gradients(zip(grads, args))"
      ],
      "metadata": {
        "id": "Wh5y4YPFxBGO"
      },
      "execution_count": null,
      "outputs": []
    },
    {
      "cell_type": "markdown",
      "source": [
        "## Model Evaluation"
      ],
      "metadata": {
        "id": "jIT-Z5bdEAsy"
      }
    },
    {
      "cell_type": "code",
      "source": [
        "# Check regressed parameters\n",
        "tf.print('w0:\\t', w0, '\\nw1:\\t', w1, '\\nw2:\\t', w2)"
      ],
      "metadata": {
        "colab": {
          "base_uri": "https://localhost:8080/"
        },
        "id": "56v2TFn8x6uf",
        "outputId": "c8e414c4-2f69-421e-b9b3-c750d2e63e77"
      },
      "execution_count": null,
      "outputs": [
        {
          "output_type": "stream",
          "name": "stdout",
          "text": [
            "w0:\t -3.54321027 \n",
            "w1:\t 4.00006723 \n",
            "w2:\t 1.67792058\n"
          ]
        }
      ]
    },
    {
      "cell_type": "code",
      "source": [
        "# Plot our model's predictions\n",
        "plt.plot(x_t, func, 'b-', label='True Curve')\n",
        "plt.plot(x_t, y_t, 'r.', label='Targets')\n",
        "plt.plot(x_t, w0 + w1 * x_t + w2 * x_t ** 2, 'g-', label='Regressed Curve')\n",
        "plt.xlabel(r'$x_i$')\n",
        "plt.ylabel(r'$y_i$')\n",
        "plt.title('Model Prediction for Noisy Parabola')\n",
        "plt.legend()\n",
        "plt.show()"
      ],
      "metadata": {
        "colab": {
          "base_uri": "https://localhost:8080/",
          "height": 297
        },
        "id": "sSq_tEUiyAa1",
        "outputId": "54fdd44f-d311-41a9-a3e3-e969cf7dc0af"
      },
      "execution_count": null,
      "outputs": [
        {
          "output_type": "display_data",
          "data": {
            "text/plain": [
              "<Figure size 432x288 with 1 Axes>"
            ],
            "image/png": "[encoded data removed]"
          },
          "metadata": {
            "needs_background": "light"
          }
        }
      ]
    },
    {
      "cell_type": "code",
      "source": [
        "# Print MSE of our predictions\n",
        "print('MSE:\\t', np.mean(((w0 + w1 * x_t + w2 * x_t ** 2) - y_t) ** 2), sep='')"
      ],
      "metadata": {
        "colab": {
          "base_uri": "https://localhost:8080/"
        },
        "id": "bGYY2gUbyMhJ",
        "outputId": "927d5ff4-ec9b-4512-cf60-076f6220e5b7"
      },
      "execution_count": null,
      "outputs": [
        {
          "output_type": "stream",
          "name": "stdout",
          "text": [
            "MSE:\t14.845846\n"
          ]
        }
      ]
    }
  ]
}